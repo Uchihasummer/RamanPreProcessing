{
 "cells": [
  {
   "cell_type": "markdown",
   "metadata": {},
   "source": [
    "# Fine-tuning on clinical samples\n",
    "In this notebook, we'll demonstrate fine-tuning a CNN on clinical samples to illustrate the procedure described in the `Extension to clinical isolates` section and also in the `CNN architecture & training details` section in the Methods."
   ]
  },
  {
   "cell_type": "markdown",
   "metadata": {},
   "source": [
    "## Load clinical data and pre-trained CNN\n",
    "The first step is to load the clinical data that we're going to use for fine-tuning. This first set of data was collected in 2018."
   ]
  },
  {
   "cell_type": "code",
   "execution_count": 1,
   "metadata": {},
   "outputs": [],
   "source": [
    "from time import time\n",
    "t00 = time()\n",
    "import numpy as np"
   ]
  },
  {
   "cell_type": "code",
   "execution_count": 2,
   "metadata": {},
   "outputs": [
    {
     "name": "stdout",
     "output_type": "stream",
     "text": [
      "(10000, 1000) (10000,)\n"
     ]
    }
   ],
   "source": [
    "# Load clinical data\n",
    "X_fn = './data/X_2018clinical.npy'\n",
    "y_fn = './data/y_2018clinical.npy'\n",
    "X = np.load(X_fn)\n",
    "y = np.load(y_fn)\n",
    "print(X.shape, y.shape)"
   ]
  },
  {
   "cell_type": "markdown",
   "metadata": {},
   "source": [
    "Next, we load the ResNet model that has been pre-trained for the 8 class antibiotic treatment groupings task on the reference dataset."
   ]
  },
  {
   "cell_type": "code",
   "execution_count": 3,
   "metadata": {},
   "outputs": [],
   "source": [
    "from resnet import ResNet\n",
    "import os\n",
    "import torch"
   ]
  },
  {
   "cell_type": "code",
   "execution_count": 4,
   "metadata": {},
   "outputs": [],
   "source": [
    "# CNN parameters\n",
    "layers = 6\n",
    "hidden_size = 100\n",
    "block_size = 2\n",
    "hidden_sizes = [hidden_size] * layers\n",
    "num_blocks = [block_size] * layers\n",
    "input_dim = 1000\n",
    "in_channels = 64\n",
    "n_classes = 8 # instead of 30, we use the 8 empiric groupings\n",
    "os.environ['CUDA_VISIBLE_DEVICES'] = '{}'.format(0)\n",
    "cuda = torch.cuda.is_available()"
   ]
  },
  {
   "cell_type": "code",
   "execution_count": 5,
   "metadata": {},
   "outputs": [],
   "source": [
    "# Load trained weights for demo\n",
    "cnn = ResNet(hidden_sizes, num_blocks, input_dim=input_dim,\n",
    "                in_channels=in_channels, n_classes=n_classes)\n",
    "if cuda: cnn.cuda()\n",
    "cnn.load_state_dict(torch.load(\n",
    "    './clinical_pretrained_model.ckpt', map_location=lambda storage, loc: storage))"
   ]
  },
  {
   "cell_type": "markdown",
   "metadata": {},
   "source": [
    "## Fine-tuning\n",
    "Now we can fine-tune the pre-trained CNN on our first set of clinical samples. In the experiments reported in the paper, we fine-tune within a cross-validation loop, but here we show just one fold for clarity. We also only train for one epoch here in the interest of time."
   ]
  },
  {
   "cell_type": "markdown",
   "metadata": {},
   "source": [
    "### Train/val/test split\n",
    "For the clinical experiments, we need to be careful about splitting our spectra into training, validation, and test sets for each fold. In particular, we want to make sure that spectra from the same patient do not appear in both training and validation/test.\n",
    "\n",
    "Our 2018 clinical dataset contains 400 spectra from each of 25 patients (10k spectra total), with 5 patients coming from each of the 5 empiric treatment groups. For each treatment group, we randomly assign 3 patients to the training set, 1 patient to validation, and 1 patient to the test set. We then randomly sample 10 spectra from each patient for fine-tuning, validation, and testing -- this is to simulate a culture-free clinical setting where not many bacterial spectra may be available.\n",
    "\n",
    "The following code demonstrates how this procedure can be implemented for a single fold."
   ]
  },
  {
   "cell_type": "code",
   "execution_count": 6,
   "metadata": {},
   "outputs": [],
   "source": [
    "# For each treatment group of 5 patients, patients are assigned to [train, train, train, val, test]\n",
    "patient_idxs = []\n",
    "for i in range(5):\n",
    "    x = list(range(5))\n",
    "    np.random.shuffle(x)\n",
    "    patient_idxs.append(x)"
   ]
  },
  {
   "cell_type": "code",
   "execution_count": 7,
   "metadata": {},
   "outputs": [
    {
     "name": "stdout",
     "output_type": "stream",
     "text": [
      "Group 0 patients\n",
      " Tr: [3, 1, 2]\n",
      " Val: 4\n",
      " Te : 0\n",
      "Group 1 patients\n",
      " Tr: [3, 2, 1]\n",
      " Val: 4\n",
      " Te : 0\n",
      "Group 2 patients\n",
      " Tr: [1, 3, 2]\n",
      " Val: 4\n",
      " Te : 0\n",
      "Group 3 patients\n",
      " Tr: [2, 1, 3]\n",
      " Val: 0\n",
      " Te : 4\n",
      "Group 4 patients\n",
      " Tr: [2, 0, 1]\n",
      " Val: 4\n",
      " Te : 3\n"
     ]
    }
   ],
   "source": [
    "# Sample train/val/te spectra\n",
    "idx_tr, idx_val, idx_te = [], [], []\n",
    "for group_idx, patient_list in enumerate(patient_idxs):\n",
    "    print('Group {} patients'.format(group_idx))\n",
    "    print(' Tr: {}'.format(patient_list[:3]))\n",
    "    print(' Val: {}'.format(patient_list[3]))\n",
    "    print(' Te : {}'.format(patient_list[4]))\n",
    "    for j, patient in enumerate(patient_list):\n",
    "        start_idx = 5 * 400 * group_idx + 400 * patient\n",
    "        idx_range = list(range(start_idx, start_idx+400))\n",
    "        # Randomly sample 10 spectra for each patient\n",
    "        np.random.shuffle(idx_range)\n",
    "        idx_sample = idx_range[:10]\n",
    "        if j < 3:\n",
    "            idx_tr.extend(idx_sample)\n",
    "        elif j ==3:\n",
    "            idx_val.extend(idx_sample)\n",
    "        else:\n",
    "            idx_te.extend(idx_sample)"
   ]
  },
  {
   "cell_type": "markdown",
   "metadata": {},
   "source": [
    "### Fine-tune the pre-trained CNN\n",
    "Now that we've split our clinical data, we can fine-tune the pre-trained model on the clinical data."
   ]
  },
  {
   "cell_type": "code",
   "execution_count": 8,
   "metadata": {},
   "outputs": [],
   "source": [
    "from datasets import spectral_dataloader\n",
    "from training import run_epoch\n",
    "from torch import optim"
   ]
  },
  {
   "cell_type": "code",
   "execution_count": 9,
   "metadata": {},
   "outputs": [
    {
     "name": "stdout",
     "output_type": "stream",
     "text": [
      "Starting fine-tuning!\n",
      " Epoch 1: 0.00s\n",
      "  Train acc: 92.00\n",
      "  Val acc: 74.00\n",
      "  Test acc: 96.00\n",
      "Finished: 15.34s\n"
     ]
    }
   ],
   "source": [
    "# Fine-tune CNN\n",
    "epochs = 1 # Change this number to ~30 for full training\n",
    "batch_size = 10\n",
    "t0 = time()\n",
    "# Set up Adam optimizer\n",
    "optimizer = optim.Adam(cnn.parameters(), lr=1e-3, betas=(0.5, 0.999))\n",
    "# Set up dataloaders\n",
    "dl_tr = spectral_dataloader(X, y, idxs=idx_tr,\n",
    "    batch_size=batch_size, shuffle=True)\n",
    "dl_val = spectral_dataloader(X, y, idxs=idx_val,\n",
    "    batch_size=batch_size, shuffle=False)\n",
    "dl_te = spectral_dataloader(X, y, idxs=idx_te,\n",
    "    batch_size=batch_size, shuffle=False)\n",
    "# Fine-tune CNN for first fold\n",
    "best_val = 0\n",
    "no_improvement = 0\n",
    "max_no_improvement = 5\n",
    "print('Starting fine-tuning!')\n",
    "for epoch in range(epochs):\n",
    "    print(' Epoch {}: {:0.2f}s'.format(epoch+1, time()-t0))\n",
    "    # Train\n",
    "    acc_tr, loss_tr = run_epoch(epoch, cnn, dl_tr, cuda,\n",
    "        training=True, optimizer=optimizer)\n",
    "    print('  Train acc: {:0.2f}'.format(acc_tr))\n",
    "    # Val\n",
    "    acc_val, loss_val = run_epoch(epoch, cnn, dl_val, cuda,\n",
    "        training=False, optimizer=optimizer)\n",
    "    print('  Val acc: {:0.2f}'.format(acc_val))\n",
    "    # Test\n",
    "    acc_te, loss_te = run_epoch(epoch, cnn, dl_te, cuda,\n",
    "        training=False, optimizer=optimizer)\n",
    "    print('  Test acc: {:0.2f}'.format(acc_te))\n",
    "    # Check performance for early stopping\n",
    "    if acc_val > best_val or epoch == 0:\n",
    "        best_val = acc_val\n",
    "        no_improvement = 0\n",
    "    else:\n",
    "        no_improvement += 1\n",
    "    if no_improvement >= max_no_improvement:\n",
    "        print('Finished after {} epochs!'.format(epoch+1))\n",
    "        break\n",
    "print('Finished: {:0.2f}s'.format(time()-t0))"
   ]
  },
  {
   "cell_type": "markdown",
   "metadata": {},
   "source": [
    "## Make predictions on treatment groups for test patients\n",
    "Now that we have a fine-tuned model, we demonstrate how it can be used for the analysis presented in Figure 4"
   ]
  },
  {
   "cell_type": "code",
   "execution_count": 10,
   "metadata": {},
   "outputs": [],
   "source": [
    "# Getting test indices\n",
    "idx_te = []\n",
    "for group_idx, patient_list in enumerate(patient_idxs):\n",
    "    start_idx = 5 * 400 * group_idx + 400 * patient_list[-1]\n",
    "    idx_te += list(range(start_idx, start_idx+400))\n",
    "dl_te = spectral_dataloader(X, y, idxs=idx_te,\n",
    "    batch_size=batch_size, shuffle=False)"
   ]
  },
  {
   "cell_type": "code",
   "execution_count": 11,
   "metadata": {},
   "outputs": [],
   "source": [
    "from training import get_predictions\n",
    "from scipy import stats"
   ]
  },
  {
   "cell_type": "code",
   "execution_count": 12,
   "metadata": {},
   "outputs": [
    {
     "name": "stdout",
     "output_type": "stream",
     "text": [
      "Finished: 46.68s\n"
     ]
    }
   ],
   "source": [
    "t0 = time()\n",
    "# Make predictions on the 5 test patients\n",
    "y_hat = get_predictions(cnn, dl_te, cuda)\n",
    "# Subset y according to which patients are chosen for the test set to generate y_te\n",
    "y_te = y[idx_te]\n",
    "print('Finished: {:0.2f}s'.format(time()-t0))"
   ]
  },
  {
   "cell_type": "markdown",
   "metadata": {},
   "source": [
    "### Generate predictions of treatment groups\n",
    "We use 10 spectra per patient to make our treatment group predictions. Here we only make predictions for one set of 5 test patients; in the experiments reported in the paper, we fine-tune within a cross-validation loop to cycle all patients through the test set. To compute identification accuracies across all patients, repeat the fine-tuning process in a cross-validation loop so that each patient appears in the test set once."
   ]
  },
  {
   "cell_type": "code",
   "execution_count": 13,
   "metadata": {},
   "outputs": [
    {
     "name": "stdout",
     "output_type": "stream",
     "text": [
      "Ran 10000 trials: 3.98s\n"
     ]
    }
   ],
   "source": [
    "t0 = time()\n",
    "\n",
    "# Experiment parameters\n",
    "trials = 10000\n",
    "n_spectra = 10\n",
    "\n",
    "preds2018 = np.zeros((5,trials))\n",
    "y_2018 = np.zeros((5, trials))\n",
    "\n",
    "for i in range(5):\n",
    "    y_2018[i] = y_te[400*i]\n",
    "    for k  in range(trials):\n",
    "        y_patient = y_hat[400*i:400*i+400]\n",
    "        idxs = np.random.permutation(np.arange(len(y_patient)))[:n_spectra]\n",
    "        preds2018[i,k] = stats.mode(y_patient[idxs])[0][0]\n",
    "\n",
    "print('Ran {} trials: {:0.2f}s'.format(trials, time()-t0))"
   ]
  },
  {
   "cell_type": "code",
   "execution_count": 14,
   "metadata": {},
   "outputs": [],
   "source": [
    "import seaborn as sns\n",
    "from sklearn.metrics import confusion_matrix\n",
    "import matplotlib.pyplot as plt\n",
    "from config import antibiotics, ab_order\n",
    "%matplotlib inline"
   ]
  },
  {
   "cell_type": "code",
   "execution_count": 15,
   "metadata": {},
   "outputs": [
    {
     "name": "stderr",
     "output_type": "stream",
     "text": [
      "/anaconda3/envs/inkjet/lib/python3.7/site-packages/ipykernel_launcher.py:5: RuntimeWarning: invalid value encountered in true_divide\n",
      "  \"\"\"\n"
     ]
    },
    {
     "data": {
      "image/png": "[encoded data removed]",
      "text/plain": [
       "<Figure size 360x288 with 2 Axes>"
      ]
     },
     "metadata": {
      "needs_background": "light"
     },
     "output_type": "display_data"
    }
   ],
   "source": [
    "sns.set_context(\"talk\", rc={\"font\":\"Helvetica\", \"font.size\":12})\n",
    "label = [antibiotics[i] for i in ab_order]\n",
    "cm = confusion_matrix(y_2018.flatten(), preds2018.flatten(), labels=ab_order)\n",
    "plt.figure(figsize=(5, 4))\n",
    "cm = 100 * cm / cm.sum(axis=1)[:,np.newaxis]\n",
    "ax = sns.heatmap(cm, annot=True, cmap='YlGnBu', fmt='0.0f',\n",
    "                 xticklabels=label, yticklabels=label)\n",
    "ax.xaxis.tick_top()\n",
    "plt.xticks(rotation=90) \n",
    "plt.show()"
   ]
  },
  {
   "cell_type": "markdown",
   "metadata": {},
   "source": [
    "## Fine-tuning on new clinical datasets\n",
    "In addition to fine-tuning on a first set of clinical data, we can continue to fine-tune the CNN on new clinical datasets. We use a dataset collected from new patients in 2019. As above, we show just one fold for clarity and train for only one epoch."
   ]
  },
  {
   "cell_type": "code",
   "execution_count": 16,
   "metadata": {},
   "outputs": [
    {
     "name": "stdout",
     "output_type": "stream",
     "text": [
      "(2500, 1000) (2500,)\n"
     ]
    }
   ],
   "source": [
    "# Load 2019 clinical data\n",
    "X_fn = './data/X_2019clinical.npy'\n",
    "y_fn = './data/y_2019clinical.npy'\n",
    "X = np.load(X_fn)\n",
    "y = np.load(y_fn)\n",
    "print(X.shape, y.shape)"
   ]
  },
  {
   "cell_type": "markdown",
   "metadata": {},
   "source": [
    "### Train/val/test split\n",
    "We split our patients into training, validation, and test sets for each fold, as above.\n",
    "\n",
    "Our 2019 clinical dataset contains 100 spectra from each of 25 patients (2500 spectra total), with 5 patients coming from each of the 5 empiric treatment groups."
   ]
  },
  {
   "cell_type": "code",
   "execution_count": 17,
   "metadata": {},
   "outputs": [],
   "source": [
    "# For each treatment group of 5 patients, patients are assigned to [train, train, train, val, test]\n",
    "patient_idxs = []\n",
    "for i in range(5):\n",
    "    x = list(range(5))\n",
    "    np.random.shuffle(x)\n",
    "    patient_idxs.append(x)"
   ]
  },
  {
   "cell_type": "code",
   "execution_count": 18,
   "metadata": {},
   "outputs": [
    {
     "name": "stdout",
     "output_type": "stream",
     "text": [
      "Group 0 patients\n",
      " Tr: [2, 3, 0]\n",
      " Val: 1\n",
      " Te : 4\n",
      "Group 1 patients\n",
      " Tr: [3, 2, 0]\n",
      " Val: 1\n",
      " Te : 4\n",
      "Group 2 patients\n",
      " Tr: [3, 4, 1]\n",
      " Val: 2\n",
      " Te : 0\n",
      "Group 3 patients\n",
      " Tr: [4, 1, 0]\n",
      " Val: 3\n",
      " Te : 2\n",
      "Group 4 patients\n",
      " Tr: [2, 3, 1]\n",
      " Val: 0\n",
      " Te : 4\n"
     ]
    }
   ],
   "source": [
    "# Sample train/val/te spectra\n",
    "idx_tr, idx_val, idx_te = [], [], []\n",
    "for group_idx, patient_list in enumerate(patient_idxs):\n",
    "    print('Group {} patients'.format(group_idx))\n",
    "    print(' Tr: {}'.format(patient_list[:3]))\n",
    "    print(' Val: {}'.format(patient_list[3]))\n",
    "    print(' Te : {}'.format(patient_list[4]))\n",
    "    for j, patient in enumerate(patient_list):\n",
    "        start_idx = 5 * 100 * group_idx + 100 * patient\n",
    "        idx_range = list(range(start_idx, start_idx+100))\n",
    "        # Randomly sample 10 spectra for each patient\n",
    "        np.random.shuffle(idx_range)\n",
    "        idx_sample = idx_range[:10]\n",
    "        if j < 3:\n",
    "            idx_tr.extend(idx_sample)\n",
    "        elif j ==3:\n",
    "            idx_val.extend(idx_sample)\n",
    "        else:\n",
    "            idx_te.extend(idx_sample)"
   ]
  },
  {
   "cell_type": "markdown",
   "metadata": {},
   "source": [
    "### Continue fine-tuning the CNN\n",
    "We use the new 2019 data to continue fine-tining the CNN that has already been fine-tuned on the 2018 data."
   ]
  },
  {
   "cell_type": "code",
   "execution_count": 19,
   "metadata": {},
   "outputs": [
    {
     "name": "stdout",
     "output_type": "stream",
     "text": [
      "Starting fine-tuning!\n",
      " Epoch 1: 0.02s\n",
      "  Train acc: 93.33\n",
      "  Val acc: 84.00\n",
      "  Test acc: 84.00\n",
      "Finished: 11.85s\n"
     ]
    }
   ],
   "source": [
    "# Fine-tune CNN\n",
    "epochs = 1 # Change this number to ~30 for full training\n",
    "batch_size = 10\n",
    "t0 = time()\n",
    "# Set up Adam optimizer\n",
    "optimizer = optim.Adam(cnn.parameters(), lr=1e-3, betas=(0.5, 0.999))\n",
    "# Set up dataloaders\n",
    "dl_tr = spectral_dataloader(X, y, idxs=idx_tr,\n",
    "    batch_size=batch_size, shuffle=True)\n",
    "dl_val = spectral_dataloader(X, y, idxs=idx_val,\n",
    "    batch_size=batch_size, shuffle=False)\n",
    "dl_te = spectral_dataloader(X, y, idxs=idx_te,\n",
    "    batch_size=batch_size, shuffle=False)\n",
    "# Fine-tune CNN for first fold\n",
    "best_val = 0\n",
    "no_improvement = 0\n",
    "max_no_improvement = 5\n",
    "print('Starting fine-tuning!')\n",
    "for epoch in range(epochs):\n",
    "    print(' Epoch {}: {:0.2f}s'.format(epoch+1, time()-t0))\n",
    "    # Train\n",
    "    acc_tr, loss_tr = run_epoch(epoch, cnn, dl_tr, cuda,\n",
    "        training=True, optimizer=optimizer)\n",
    "    print('  Train acc: {:0.2f}'.format(acc_tr))\n",
    "    # Val\n",
    "    acc_val, loss_val = run_epoch(epoch, cnn, dl_val, cuda,\n",
    "        training=False, optimizer=optimizer)\n",
    "    print('  Val acc: {:0.2f}'.format(acc_val))\n",
    "    # Test\n",
    "    acc_te, loss_te = run_epoch(epoch, cnn, dl_te, cuda,\n",
    "        training=False, optimizer=optimizer)\n",
    "    print('  Test acc: {:0.2f}'.format(acc_te))\n",
    "    # Check performance for early stopping\n",
    "    if acc_val > best_val or epoch == 0:\n",
    "        best_val = acc_val\n",
    "        no_improvement = 0\n",
    "    else:\n",
    "        no_improvement += 1\n",
    "    if no_improvement >= max_no_improvement:\n",
    "        print('Finished after {} epochs!'.format(epoch+1))\n",
    "        break\n",
    "print('Finished: {:0.2f}s'.format(time()-t0))"
   ]
  },
  {
   "cell_type": "markdown",
   "metadata": {},
   "source": [
    "## Make predictions on treatment groups for test patients\n",
    "As above, we make predictions for one group of 5 test patients."
   ]
  },
  {
   "cell_type": "code",
   "execution_count": 20,
   "metadata": {},
   "outputs": [],
   "source": [
    "# Getting test indices\n",
    "idx_te = []\n",
    "for group_idx, patient_list in enumerate(patient_idxs):\n",
    "    start_idx = 5 * 100 * group_idx + 100 * patient_list[-1]\n",
    "    idx_te += list(range(start_idx, start_idx+100))\n",
    "dl_te = spectral_dataloader(X, y, idxs=idx_te,\n",
    "    batch_size=batch_size, shuffle=False)"
   ]
  },
  {
   "cell_type": "code",
   "execution_count": 21,
   "metadata": {},
   "outputs": [
    {
     "name": "stdout",
     "output_type": "stream",
     "text": [
      "Finished: 11.86s\n"
     ]
    }
   ],
   "source": [
    "t0 = time()\n",
    "# Make predictions on the 5 test patients\n",
    "y_hat = get_predictions(cnn, dl_te, cuda)\n",
    "# Subset y according to which patients are chosen for the test set to generate y_te\n",
    "y_te = y[idx_te]\n",
    "print('Finished: {:0.2f}s'.format(time()-t0))"
   ]
  },
  {
   "cell_type": "markdown",
   "metadata": {},
   "source": [
    "### Generate predictions of treatment groups\n",
    "We use 10 spectra per patient to make our treatment group predictions for 5 patients. To compute identification accuracies across all patients, repeat the fine-tuning process in a cross-validation loop so that each patient appears in the test set once."
   ]
  },
  {
   "cell_type": "code",
   "execution_count": 22,
   "metadata": {},
   "outputs": [
    {
     "name": "stdout",
     "output_type": "stream",
     "text": [
      "Ran 10000 trials: 3.73s\n"
     ]
    }
   ],
   "source": [
    "t0 = time()\n",
    "\n",
    "# Experiment parameters\n",
    "trials = 10000\n",
    "n_spectra = 10\n",
    "\n",
    "preds2019 = np.zeros((5,trials))\n",
    "y_2019 = np.zeros((5, trials))\n",
    "\n",
    "for i in range(5):\n",
    "    y_2019[i] = y_te[100*i]\n",
    "    for k  in range(trials):\n",
    "        y_patient = y_hat[100*i:100*i+100]\n",
    "        idxs = np.random.permutation(np.arange(len(y_patient)))[:n_spectra]\n",
    "        preds2019[i,k] = stats.mode(y_patient[idxs])[0][0]\n",
    "\n",
    "print('Ran {} trials: {:0.2f}s'.format(trials, time()-t0))"
   ]
  },
  {
   "cell_type": "code",
   "execution_count": 23,
   "metadata": {},
   "outputs": [
    {
     "name": "stderr",
     "output_type": "stream",
     "text": [
      "/anaconda3/envs/inkjet/lib/python3.7/site-packages/ipykernel_launcher.py:5: RuntimeWarning: invalid value encountered in true_divide\n",
      "  \"\"\"\n"
     ]
    },
    {
     "data": {
      "image/png": "[encoded data removed]",
      "text/plain": [
       "<Figure size 360x288 with 2 Axes>"
      ]
     },
     "metadata": {
      "needs_background": "light"
     },
     "output_type": "display_data"
    },
    {
     "name": "stdout",
     "output_type": "stream",
     "text": [
      "\n",
      " This demo was completed in: 96.60s\n"
     ]
    }
   ],
   "source": [
    "sns.set_context(\"talk\", rc={\"font\":\"Helvetica\", \"font.size\":12})\n",
    "label = [antibiotics[i] for i in ab_order]\n",
    "cm = confusion_matrix(y_2019.flatten(), preds2019.flatten(), labels=ab_order)\n",
    "plt.figure(figsize=(5, 4))\n",
    "cm = 100 * cm / cm.sum(axis=1)[:,np.newaxis]\n",
    "ax = sns.heatmap(cm, annot=True, cmap='YlGnBu', fmt='0.0f',\n",
    "                 xticklabels=label, yticklabels=label)\n",
    "ax.xaxis.tick_top()\n",
    "plt.xticks(rotation=90) \n",
    "plt.show()\n",
    "\n",
    "print('\\n This demo was completed in: {:0.2f}s'.format(time()-t00))"
   ]
  }
 ],
 "metadata": {
  "kernelspec": {
   "display_name": "Python 3",
   "language": "python",
   "name": "python3"
  },
  "language_info": {
   "codemirror_mode": {
    "name": "ipython",
    "version": 3
   },
   "file_extension": ".py",
   "mimetype": "text/x-python",
   "name": "python",
   "nbconvert_exporter": "python",
   "pygments_lexer": "ipython3",
   "version": "3.7.0"
  }
 },
 "nbformat": 4,
 "nbformat_minor": 2
}
